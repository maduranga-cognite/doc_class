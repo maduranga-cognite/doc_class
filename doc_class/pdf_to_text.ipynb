{
 "cells": [
  {
   "cell_type": "code",
   "execution_count": 23,
   "metadata": {},
   "outputs": [
    {
     "data": {
      "text/html": [
       "<div>\n",
       "<style scoped>\n",
       "    .dataframe tbody tr th:only-of-type {\n",
       "        vertical-align: middle;\n",
       "    }\n",
       "\n",
       "    .dataframe tbody tr th {\n",
       "        vertical-align: top;\n",
       "    }\n",
       "\n",
       "    .dataframe thead th {\n",
       "        text-align: right;\n",
       "    }\n",
       "</style>\n",
       "<table border=\"1\" class=\"dataframe\">\n",
       "  <thead>\n",
       "    <tr style=\"text-align: right;\">\n",
       "      <th></th>\n",
       "      <th>category</th>\n",
       "      <th>file_name</th>\n",
       "      <th>content</th>\n",
       "    </tr>\n",
       "  </thead>\n",
       "  <tbody>\n",
       "    <tr>\n",
       "      <th>0</th>\n",
       "      <td>A</td>\n",
       "      <td>kjhnoijo.pdf</td>\n",
       "      <td>DST Industrial Training-Applied Statistics-201...</td>\n",
       "    </tr>\n",
       "    <tr>\n",
       "      <th>1</th>\n",
       "      <td>B</td>\n",
       "      <td>Progress Report_3.pdf</td>\n",
       "      <td>DST Industrial Training-Applied Statistics-201...</td>\n",
       "    </tr>\n",
       "    <tr>\n",
       "      <th>2</th>\n",
       "      <td>C</td>\n",
       "      <td>li2016.pdf</td>\n",
       "      <td>2016 IEEE International Conference on Big Data...</td>\n",
       "    </tr>\n",
       "  </tbody>\n",
       "</table>\n",
       "</div>"
      ],
      "text/plain": [
       "  category              file_name  \\\n",
       "0        A           kjhnoijo.pdf   \n",
       "1        B  Progress Report_3.pdf   \n",
       "2        C             li2016.pdf   \n",
       "\n",
       "                                             content  \n",
       "0  DST Industrial Training-Applied Statistics-201...  \n",
       "1  DST Industrial Training-Applied Statistics-201...  \n",
       "2  2016 IEEE International Conference on Big Data...  "
      ]
     },
     "execution_count": 23,
     "metadata": {},
     "output_type": "execute_result"
    }
   ],
   "source": [
    "import os\n",
    "import PyPDF2\n",
    "data = []\n",
    "for folder in sorted(os.listdir('pdf_dirr')):\n",
    "    for file in sorted(os.listdir('pdf_dirr/'+folder)):\n",
    "\n",
    "        texts = \"\"\n",
    "\n",
    "        pdfFileObj = open('pdf_dirr/'+folder+'/'+file,'rb')\n",
    "        pdfReader = PyPDF2.PdfFileReader(pdfFileObj)\n",
    "        for i in range(0, pdfReader.numPages):\n",
    "    \n",
    "            pageObj = pdfReader.getPage(i)\n",
    "            texts = texts +  pageObj.extractText()\n",
    "            \n",
    "        content = texts.replace('\\n', '')\n",
    "        data.append((folder, file , content))\n",
    "df = pd.DataFrame(data, columns=['category', 'file_name','content'])\n",
    "df"
   ]
  },
  {
   "cell_type": "code",
   "execution_count": 29,
   "metadata": {},
   "outputs": [
    {
     "data": {
      "text/plain": [
       "'DST Industrial Training-Applied Statistics-2019   Progress Report Industrial Training  Applied Statistics  2019 Placement: CREATIVE SOFTWARE Name of the student: H. M. M. S. JAYASOORIYA Index No: s12916 Duration Considered: from 2th of SEP to 13th of SEP Brief Description of work carried out         Received a project from the cognite internship program to carry out within 3 months of time. The project briefing is not done yet. It is about reducing the cost of clogging the oil wells belongs to the client Akerbp. We are given a python source code named chalk influx notification system. It is a module written in python to send notifications to a channel called slack when there is a risk of clogging the wells due to excess chalk in the production stream.          The code contains sub modules: -  Model uploader - upload models for model hosting  Event generator - generate events to notify  Event aggregator - aggregate the created events  Slack notifier - send the notification of events to the slack channel   Integration testing   Deployments   Models o Drawdown o Drift o Max-min-pop-model o Mix-density o sonos         We analyzed and understood the codes related with the Model uploader, Event generator, Event aggregator and sonos. We did a presentation on the sonos model in front of the supervisors and the industrial mentor to present what we understood about the sonos sub module in a high-level conceptual manner. Problem found and solutions found  The code was too hard to understand without proper domain knowledge Requested for some documentations related with the code and found that the code is about 3 methods that AkerBP and Cognite use to identify a chalk influx event before it happens using data coming from sensors. The first method is by looking for the chalk particles in the production stream and the other two is by measuring the pressure of the valves belongs to the oil wells The meaning of SNR was not known as it is related to physics rather than statistics. Found that the SNR is a ratio calculate [sound to noise ratio] using a acoustic signal           Signature of Trainee      Approved by the Industry Mentor    DST Industrial Training-Applied Statistics-2019  Learning Diary Industrial Training- Applied Statistics-2019 Placement: CREATIVE SOFTWARE Name of Student: H. M. M. S. JAYASOORIYA. Index No: s12916  Week Ending 06 SEP 2019 Day Brief description of work carried out Monday      Analyzed the Model Uploader sub module of the chalk influx module.   Learnt how to upload a predictive model to a cloud server for later usage. Tuesday      Continued understanding the Model Uploader.  Learnt how to test a model present in the cloud and to clean up the model from the model hosting cloud when they are not needed in the cloud. Wednesday      The Event generator code was analyzed.  Learnt how to create an event when an anomaly is detected in the oil refining wells. Thursday      Analyzed the Event Aggregator code.  Learnt how to aggregate events before sending them as a notification.  Friday      Started to learn the models created to predict the risk of having a chalk influx in oil wells.  Did run the codes in a file called sonos-dev.ipynb and understood that it refers to filtering some sound signal and calculate a value called SNR  in order to check whether the chalk particles are present in the production stream     DST Industrial Training-Applied Statistics-2019            Signature of Student: Date: 12 SEP 2019 Week Ending 13 SEP 2019 Day Brief description of work carried out Monday      Did run the caodes in a file called set_SNR_dev.ipynb which belongs to the sonos model.  Found that the code is about creating a polynomial regression model to define the SNR limit for a new oil well. Tuesday      We did a presentation about what we understood about the sonos model to the supervisors and the mentor.  We were instructed to develop a conceptual diagram to depict the whole process of the chalk influx module. Wednesday      Started analyzing the other models   Did run a python notebook called Drawdown and found that it is about identifying the risk of chalk influx using the BHP pressure. Thursday      Continued understanding the Drawdown code.  Learnt about Vector Autoregression (VAR).  Friday      Poya Day '"
      ]
     },
     "execution_count": 29,
     "metadata": {},
     "output_type": "execute_result"
    }
   ],
   "source": [
    "df.iloc[0]['content']"
   ]
  },
  {
   "cell_type": "code",
   "execution_count": null,
   "metadata": {},
   "outputs": [],
   "source": []
  },
  {
   "cell_type": "code",
   "execution_count": null,
   "metadata": {},
   "outputs": [],
   "source": []
  }
 ],
 "metadata": {
  "kernelspec": {
   "display_name": "Python 3",
   "language": "python",
   "name": "python3"
  },
  "language_info": {
   "codemirror_mode": {
    "name": "ipython",
    "version": 3
   },
   "file_extension": ".py",
   "mimetype": "text/x-python",
   "name": "python",
   "nbconvert_exporter": "python",
   "pygments_lexer": "ipython3",
   "version": "3.7.3"
  }
 },
 "nbformat": 4,
 "nbformat_minor": 4
}
